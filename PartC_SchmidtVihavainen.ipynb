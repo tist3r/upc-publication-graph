{
 "cells": [
  {
   "attachments": {},
   "cell_type": "markdown",
   "metadata": {},
   "source": [
    "# Part C"
   ]
  },
  {
   "cell_type": "markdown",
   "metadata": {},
   "source": [
    "## Setup"
   ]
  },
  {
   "cell_type": "code",
   "execution_count": 1,
   "metadata": {},
   "outputs": [],
   "source": [
    "from py2neo import Graph, ClientError"
   ]
  },
  {
   "cell_type": "code",
   "execution_count": 2,
   "metadata": {},
   "outputs": [],
   "source": [
    "#set connection variables\n",
    "PORT = \"7687\" #database running on this port for bolt connections\n",
    "USER = \"neo4j\" #standard user\n",
    "PASSWORD = \"publication-graph\" #db password"
   ]
  },
  {
   "cell_type": "code",
   "execution_count": 3,
   "metadata": {},
   "outputs": [
    {
     "name": "stdout",
     "output_type": "stream",
     "text": [
      "SUCCESS: Connected to the Neo4j Database.\n"
     ]
    }
   ],
   "source": [
    "#connect to database\n",
    "try:\n",
    "    graph = Graph('bolt://localhost:'+PORT, auth=(USER, PASSWORD))\n",
    "    print('SUCCESS: Connected to the Neo4j Database.')\n",
    "except Exception as e:\n",
    "    print('ERROR: Could not connect to the Neo4j Database. See console for details.')\n",
    "    raise SystemExit(e)"
   ]
  },
  {
   "cell_type": "code",
   "execution_count": 4,
   "metadata": {},
   "outputs": [],
   "source": [
    "# query helper function\n",
    "def run_query(query:str):\n",
    "    try:\n",
    "        return graph.run(query)\n",
    "    except ClientError as e:\n",
    "        print(e.message)"
   ]
  },
  {
   "attachments": {},
   "cell_type": "markdown",
   "metadata": {},
   "source": [
    "## Step 1\n",
    "The first thing to do is to find/define the research communities. A community is defined by a set of keywords. Assume that the database community is defined through the following keywords: data management, indexing, data modeling, big data, data processing, data storage and data querying."
   ]
  },
  {
   "cell_type": "code",
   "execution_count": 6,
   "metadata": {},
   "outputs": [],
   "source": [
    "DATABASE_COMMUNITY_KEYWORDS = [\"data management\", \"indexing\", \"data modeling\", \"big data\", \"data processing\", \"data storage\",\"data querying\"]"
   ]
  },
  {
   "cell_type": "code",
   "execution_count": 7,
   "metadata": {},
   "outputs": [],
   "source": [
    "community_constraint = \"\"\"\n",
    "CREATE CONSTRAINT for (c:Community) require c.community_name is unique;\n",
    "\"\"\""
   ]
  },
  {
   "cell_type": "code",
   "execution_count": 8,
   "metadata": {},
   "outputs": [
    {
     "name": "stdout",
     "output_type": "stream",
     "text": [
      "An equivalent constraint already exists, 'Constraint( id=20, name='constraint_8cb1b3fe', type='UNIQUENESS', schema=(:Community {community_name}), ownedIndex=19 )'.\n"
     ]
    }
   ],
   "source": [
    "run_query(community_constraint)"
   ]
  },
  {
   "cell_type": "code",
   "execution_count": 11,
   "metadata": {},
   "outputs": [],
   "source": [
    "link_kw_to_community = \"\"\"\n",
    "Merge (com:Community {community_name: \"Database Community\"})\n",
    "\n",
    "with com, [\"data management\", \"indexing\", \"data modeling\", \"big data\", \"data processing\", \"data storage\",\"data querying\"] as db_com_keywords\n",
    "unwind db_com_keywords as kw\n",
    "Match (k:Keyword {keyword: kw})\n",
    "Merge (com)-[:DEFINED_BY]->(k)\n",
    "\"\"\""
   ]
  },
  {
   "cell_type": "code",
   "execution_count": 12,
   "metadata": {},
   "outputs": [
    {
     "data": {
      "text/html": [
       "(No data)"
      ],
      "text/plain": [
       "(No data)"
      ]
     },
     "execution_count": 12,
     "metadata": {},
     "output_type": "execute_result"
    }
   ],
   "source": [
    "run_query(link_kw_to_community)"
   ]
  },
  {
   "attachments": {},
   "cell_type": "markdown",
   "metadata": {},
   "source": [
    "## Step 2\n",
    "\n",
    "Next, we need to find the conferences and journals related to the database community (i.e., are specific to the field of databases). Assume that if 90% of the papers published in a conference/journal contain one of the keywords of the database community we consider that conference/journal as related to that community."
   ]
  },
  {
   "cell_type": "code",
   "execution_count": 13,
   "metadata": {},
   "outputs": [],
   "source": [
    "determine_community = \"\"\"\n",
    "Match (paper:Paper)-[:PUBLISHED_IN]->()<-[:HOLDS|ISSUES]-(pub)\n",
    "with pub, count(paper) as no_publications\n",
    "\n",
    "Match (com:Community {community_name: \"Database Community\"})-[:DEFINED_BY]-(kw:Keyword)\n",
    "Match (kw)<-[:MAIN_TOPIC]-(paper:Paper)-[:PUBLISHED_IN]->()<-[:HOLDS|ISSUES]-(pub)\n",
    "\n",
    "with pub, count(distinct paper) as no_in_community, no_publications, com\n",
    "with pub, no_in_community, no_publications, toFloat(no_in_community) / no_publications as community_participation, com\n",
    "\n",
    "where community_participation >= 0.9\n",
    "\n",
    "Merge (com)<-[rt:RELATED_TO]-(pub)\n",
    "set rt.participation_rate = community_participation\n",
    "\n",
    "\"\"\""
   ]
  },
  {
   "cell_type": "code",
   "execution_count": 14,
   "metadata": {},
   "outputs": [
    {
     "data": {
      "text/html": [
       "(No data)"
      ],
      "text/plain": [
       "(No data)"
      ]
     },
     "execution_count": 14,
     "metadata": {},
     "output_type": "execute_result"
    }
   ],
   "source": [
    "run_query(determine_community)"
   ]
  },
  {
   "cell_type": "code",
   "execution_count": null,
   "metadata": {},
   "outputs": [],
   "source": []
  }
 ],
 "metadata": {
  "kernelspec": {
   "display_name": "venv",
   "language": "python",
   "name": "python3"
  },
  "language_info": {
   "codemirror_mode": {
    "name": "ipython",
    "version": 3
   },
   "file_extension": ".py",
   "mimetype": "text/x-python",
   "name": "python",
   "nbconvert_exporter": "python",
   "pygments_lexer": "ipython3",
   "version": "3.9.7"
  },
  "orig_nbformat": 4
 },
 "nbformat": 4,
 "nbformat_minor": 2
}
