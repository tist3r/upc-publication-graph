{
 "cells": [
  {
   "attachments": {},
   "cell_type": "markdown",
   "metadata": {},
   "source": [
    "# Part C"
   ]
  },
  {
   "cell_type": "markdown",
   "metadata": {},
   "source": [
    "## Setup"
   ]
  },
  {
   "cell_type": "code",
   "execution_count": 1,
   "metadata": {},
   "outputs": [],
   "source": [
    "from py2neo import Graph, ClientError"
   ]
  },
  {
   "cell_type": "code",
   "execution_count": 2,
   "metadata": {},
   "outputs": [],
   "source": [
    "#set connection variables\n",
    "PORT = \"7687\" #database running on this port for bolt connections\n",
    "USER = \"neo4j\" #standard user\n",
    "PASSWORD = \"publication-graph\" #db password"
   ]
  },
  {
   "cell_type": "code",
   "execution_count": 3,
   "metadata": {},
   "outputs": [
    {
     "name": "stdout",
     "output_type": "stream",
     "text": [
      "SUCCESS: Connected to the Neo4j Database.\n"
     ]
    }
   ],
   "source": [
    "#connect to database\n",
    "try:\n",
    "    graph = Graph('bolt://localhost:'+PORT, auth=(USER, PASSWORD))\n",
    "    print('SUCCESS: Connected to the Neo4j Database.')\n",
    "except Exception as e:\n",
    "    print('ERROR: Could not connect to the Neo4j Database. See console for details.')\n",
    "    raise SystemExit(e)"
   ]
  },
  {
   "cell_type": "code",
   "execution_count": 4,
   "metadata": {},
   "outputs": [],
   "source": [
    "# query helper function\n",
    "def run_query(query:str):\n",
    "    try:\n",
    "        return graph.run(query)\n",
    "    except ClientError as e:\n",
    "        print(e.message)"
   ]
  },
  {
   "attachments": {},
   "cell_type": "markdown",
   "metadata": {},
   "source": [
    "## Step 1\n",
    "The first thing to do is to find/define the research communities. A community is defined by a set of keywords. Assume that the database community is defined through the following keywords: data management, indexing, data modeling, big data, data processing, data storage and data querying."
   ]
  },
  {
   "cell_type": "code",
   "execution_count": 6,
   "metadata": {},
   "outputs": [],
   "source": [
    "DATABASE_COMMUNITY_KEYWORDS = [\"data management\", \"indexing\", \"data modeling\", \"big data\", \"data processing\", \"data storage\",\"data querying\"]"
   ]
  },
  {
   "cell_type": "code",
   "execution_count": 7,
   "metadata": {},
   "outputs": [],
   "source": [
    "community_constraint = \"\"\"\n",
    "CREATE CONSTRAINT for (c:Community) require c.community_name is unique;\n",
    "\"\"\""
   ]
  },
  {
   "cell_type": "code",
   "execution_count": 8,
   "metadata": {},
   "outputs": [
    {
     "name": "stdout",
     "output_type": "stream",
     "text": [
      "An equivalent constraint already exists, 'Constraint( id=20, name='constraint_8cb1b3fe', type='UNIQUENESS', schema=(:Community {community_name}), ownedIndex=19 )'.\n"
     ]
    }
   ],
   "source": [
    "run_query(community_constraint)"
   ]
  },
  {
   "cell_type": "code",
   "execution_count": 11,
   "metadata": {},
   "outputs": [],
   "source": [
    "link_kw_to_community = \"\"\"\n",
    "Merge (com:Community {community_name: \"Database Community\"})\n",
    "\n",
    "with com, [\"data management\", \"indexing\", \"data modeling\", \"big data\", \"data processing\", \"data storage\",\"data querying\"] as db_com_keywords\n",
    "unwind db_com_keywords as kw\n",
    "Match (k:Keyword {keyword: kw})\n",
    "Merge (com)-[:DEFINED_BY]->(k)\n",
    "\"\"\""
   ]
  },
  {
   "cell_type": "code",
   "execution_count": 12,
   "metadata": {},
   "outputs": [
    {
     "data": {
      "text/html": [
       "(No data)"
      ],
      "text/plain": [
       "(No data)"
      ]
     },
     "execution_count": 12,
     "metadata": {},
     "output_type": "execute_result"
    }
   ],
   "source": [
    "run_query(link_kw_to_community)"
   ]
  },
  {
   "attachments": {},
   "cell_type": "markdown",
   "metadata": {},
   "source": [
    "## Step 2\n",
    "\n",
    "Next, we need to find the conferences and journals related to the database community (i.e., are specific to the field of databases). Assume that if 90% of the papers published in a conference/journal contain one of the keywords of the database community we consider that conference/journal as related to that community."
   ]
  },
  {
   "cell_type": "code",
   "execution_count": 13,
   "metadata": {},
   "outputs": [],
   "source": [
    "determine_community = \"\"\"\n",
    "Match (paper:Paper)-[:PUBLISHED_IN]->()<-[:HOLDS|ISSUES]-(pub)\n",
    "with pub, count(paper) as no_publications\n",
    "\n",
    "Match (com:Community {community_name: \"Database Community\"})-[:DEFINED_BY]-(kw:Keyword)\n",
    "Match (kw)<-[:MAIN_TOPIC]-(paper:Paper)-[:PUBLISHED_IN]->()<-[:HOLDS|ISSUES]-(pub)\n",
    "\n",
    "with pub, count(distinct paper) as no_in_community, no_publications, com\n",
    "with pub, no_in_community, no_publications, toFloat(no_in_community) / no_publications as community_participation, com\n",
    "\n",
    "where community_participation >= 0.9\n",
    "\n",
    "Merge (com)<-[rt:RELATED_TO]-(pub)\n",
    "set rt.participation_rate = community_participation\n",
    "\n",
    "\"\"\""
   ]
  },
  {
   "cell_type": "code",
   "execution_count": 14,
   "metadata": {},
   "outputs": [
    {
     "data": {
      "text/html": [
       "(No data)"
      ],
      "text/plain": [
       "(No data)"
      ]
     },
     "execution_count": 14,
     "metadata": {},
     "output_type": "execute_result"
    }
   ],
   "source": [
    "run_query(determine_community)"
   ]
  },
  {
   "attachments": {},
   "cell_type": "markdown",
   "metadata": {},
   "source": [
    "## Step 3\n",
    "Next, we want to identify the top papers of these conferences/journals. We need to find the papers with the highest page rank provided the number of citations from the papers of the same community (papers in the conferences/journals of the database community). As a result we would obtain (highlight), say, the top-100 papers of the conferences of the database community."
   ]
  },
  {
   "cell_type": "code",
   "execution_count": 15,
   "metadata": {},
   "outputs": [],
   "source": [
    "identify_community_papers = \"\"\"\n",
    "\n",
    "Match (com:Community {community_name: \"Database Community\"})\n",
    "Match (paper:Paper)-[cite:CITES]->(cited_paper:Paper)\n",
    "Match (paper)-[:PUBLISHED_IN]->()<-[:HOLDS|ISSUES]-(pub)-[:RELATED_TO]->(com)\n",
    "Match (cited_paper)-[:PUBLISHED_IN]->()<-[:HOLDS|ISSUES]-(pub)-[:RELATED_TO]->(com)\n",
    "\n",
    "with cited_paper, count(cite) as no_citations, com\n",
    "\n",
    "Merge (com)-[cp:COMMUNITY_PAPER]->(cited_paper)\n",
    "set cp.community_citations = no_citations\n",
    "\n",
    "\"\"\""
   ]
  },
  {
   "cell_type": "code",
   "execution_count": null,
   "metadata": {},
   "outputs": [],
   "source": [
    "run_query(identify_community_papers)"
   ]
  },
  {
   "cell_type": "code",
   "execution_count": 16,
   "metadata": {},
   "outputs": [],
   "source": [
    "get_highlight_papers = \"\"\"\n",
    "Match (com:Community {community_name: \"Database Community\"})-[cp:COMMUNITY_PAPER]->(paper:Paper)\n",
    "with cp, cp.community_citations as no_citations\n",
    "order by no_citations desc\n",
    "\n",
    "with collect(cp) as papers\n",
    "with papers[0..100] as top100papers\n",
    "unwind top100papers as highlight\n",
    "set highlight.top100 = True\n",
    "\n",
    "\"\"\""
   ]
  },
  {
   "cell_type": "code",
   "execution_count": 17,
   "metadata": {},
   "outputs": [
    {
     "data": {
      "text/html": [
       "(No data)"
      ],
      "text/plain": [
       "(No data)"
      ]
     },
     "execution_count": 17,
     "metadata": {},
     "output_type": "execute_result"
    }
   ],
   "source": [
    "run_query(get_highlight_papers)"
   ]
  },
  {
   "cell_type": "code",
   "execution_count": 18,
   "metadata": {},
   "outputs": [],
   "source": [
    "# TODO: Explain why in 2 steps"
   ]
  },
  {
   "attachments": {},
   "cell_type": "markdown",
   "metadata": {},
   "source": [
    "## Step 4\n",
    "\n",
    "Finally, an author of any of these top-100 papers is automatically considered a potential good match to review database papers. In addition, we want to identify gurus, i.e., very reputated authors that would be able to review for top conferences. We identify gurus as those authors that are authors of, at least, two papers among the top-100 identified."
   ]
  },
  {
   "cell_type": "code",
   "execution_count": 20,
   "metadata": {},
   "outputs": [],
   "source": [
    "potential_reviewer_and_guru = \"\"\"\n",
    "Match (com:Community {community_name: \"Database Community\"})-[cp:COMMUNITY_PAPER]->(paper:Paper)<-[:AUTHOR_OF]-(author:Researcher)\n",
    "WHERE cp.top100 = True\n",
    "\n",
    "Merge (com)-[:POTENTIAL_REVIEWER]->(author)\n",
    "\n",
    "with author, count(distinct paper) as no_publications, com\n",
    "where no_publications >= 2\n",
    "\n",
    "Merge (com)-[:GURU]->(author)\n",
    "\"\"\""
   ]
  },
  {
   "cell_type": "code",
   "execution_count": 21,
   "metadata": {},
   "outputs": [
    {
     "data": {
      "text/html": [
       "(No data)"
      ],
      "text/plain": [
       "(No data)"
      ]
     },
     "execution_count": 21,
     "metadata": {},
     "output_type": "execute_result"
    }
   ],
   "source": [
    "run_query(potential_reviewer_and_guru)"
   ]
  },
  {
   "cell_type": "code",
   "execution_count": null,
   "metadata": {},
   "outputs": [],
   "source": []
  }
 ],
 "metadata": {
  "kernelspec": {
   "display_name": "venv",
   "language": "python",
   "name": "python3"
  },
  "language_info": {
   "codemirror_mode": {
    "name": "ipython",
    "version": 3
   },
   "file_extension": ".py",
   "mimetype": "text/x-python",
   "name": "python",
   "nbconvert_exporter": "python",
   "pygments_lexer": "ipython3",
   "version": "3.9.7"
  },
  "orig_nbformat": 4
 },
 "nbformat": 4,
 "nbformat_minor": 2
}
