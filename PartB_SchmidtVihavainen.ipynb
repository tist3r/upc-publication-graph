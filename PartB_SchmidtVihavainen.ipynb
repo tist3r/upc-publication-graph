{
 "cells": [
  {
   "attachments": {},
   "cell_type": "markdown",
   "metadata": {},
   "source": [
    "# Part B"
   ]
  },
  {
   "cell_type": "markdown",
   "metadata": {},
   "source": [
    "## Setup"
   ]
  },
  {
   "cell_type": "code",
   "execution_count": 9,
   "metadata": {},
   "outputs": [],
   "source": [
    "from py2neo import Graph, ClientError"
   ]
  },
  {
   "cell_type": "code",
   "execution_count": 10,
   "metadata": {},
   "outputs": [],
   "source": [
    "#set connection variables\n",
    "PORT = \"7687\" #database running on this port for bolt connections\n",
    "USER = \"neo4j\" #standard user\n",
    "PASSWORD = \"publication-graph\" #db password"
   ]
  },
  {
   "cell_type": "code",
   "execution_count": 11,
   "metadata": {},
   "outputs": [
    {
     "name": "stdout",
     "output_type": "stream",
     "text": [
      "SUCCESS: Connected to the Neo4j Database.\n"
     ]
    }
   ],
   "source": [
    "#connect to database\n",
    "try:\n",
    "    graph = Graph('bolt://localhost:'+PORT, auth=(USER, PASSWORD))\n",
    "    print('SUCCESS: Connected to the Neo4j Database.')\n",
    "except Exception as e:\n",
    "    print('ERROR: Could not connect to the Neo4j Database. See console for details.')\n",
    "    raise SystemExit(e)"
   ]
  },
  {
   "cell_type": "code",
   "execution_count": 12,
   "metadata": {},
   "outputs": [],
   "source": [
    "# query helper function\n",
    "def run_query(query:str):\n",
    "    try:\n",
    "        return graph.run(query)\n",
    "    except ClientError as e:\n",
    "        print(e.message)"
   ]
  },
  {
   "attachments": {},
   "cell_type": "markdown",
   "metadata": {},
   "source": [
    "## 3 Most cited papers of each conference\n",
    "\n",
    "Information: if a paper has no citations it won't be shown. That means that for some conferences where there is only one paper with citations there will only be one paper in the result"
   ]
  },
  {
   "cell_type": "code",
   "execution_count": null,
   "metadata": {},
   "outputs": [],
   "source": [
    "most_cited_papers = \"\"\"\n",
    "Match (paper:Paper)<-[:CITES]-(citing_paper:Paper), (paper)-[:PUBLISHED_IN]->(:ConferenceEdition)<-[:HOLDS]-(conference:Conference)\n",
    "with conference, paper, count(citing_paper) as no_citations  order by conference.conference_name, count(citing_paper) desc\n",
    "\n",
    "with conference, collect(paper.title) as papers\n",
    "with conference, papers[0..3] as most_cited\n",
    "\n",
    "return conference.conference_name as conference, most_cited\n",
    "\"\"\""
   ]
  },
  {
   "cell_type": "code",
   "execution_count": 34,
   "metadata": {},
   "outputs": [],
   "source": [
    "cursor = run_query(most_cited_papers)\n",
    "df = cursor.to_data_frame()"
   ]
  },
  {
   "cell_type": "code",
   "execution_count": 35,
   "metadata": {},
   "outputs": [
    {
     "data": {
      "text/html": [
       "<div>\n",
       "<style scoped>\n",
       "    .dataframe tbody tr th:only-of-type {\n",
       "        vertical-align: middle;\n",
       "    }\n",
       "\n",
       "    .dataframe tbody tr th {\n",
       "        vertical-align: top;\n",
       "    }\n",
       "\n",
       "    .dataframe thead th {\n",
       "        text-align: right;\n",
       "    }\n",
       "</style>\n",
       "<table border=\"1\" class=\"dataframe\">\n",
       "  <thead>\n",
       "    <tr style=\"text-align: right;\">\n",
       "      <th></th>\n",
       "      <th>conference</th>\n",
       "      <th>most_cited</th>\n",
       "    </tr>\n",
       "  </thead>\n",
       "  <tbody>\n",
       "    <tr>\n",
       "      <th>0</th>\n",
       "      <td>ADG</td>\n",
       "      <td>[Maximizing the Sum of the Distances between F...</td>\n",
       "    </tr>\n",
       "    <tr>\n",
       "      <th>1</th>\n",
       "      <td>AISTATS</td>\n",
       "      <td>[Markov Topic Models., Noise-contrastive estim...</td>\n",
       "    </tr>\n",
       "    <tr>\n",
       "      <th>2</th>\n",
       "      <td>ANT/MobiWIS</td>\n",
       "      <td>[Distributed Usage Control., Multi-hop Interfe...</td>\n",
       "    </tr>\n",
       "    <tr>\n",
       "      <th>3</th>\n",
       "      <td>APC 25</td>\n",
       "      <td>[On Combining Probability and Nondeterminism.,...</td>\n",
       "    </tr>\n",
       "    <tr>\n",
       "      <th>4</th>\n",
       "      <td>ARSPA@IJCAR</td>\n",
       "      <td>[Preface.]</td>\n",
       "    </tr>\n",
       "    <tr>\n",
       "      <th>5</th>\n",
       "      <td>AVoCS</td>\n",
       "      <td>[Isabelle Theories for Machine Words.]</td>\n",
       "    </tr>\n",
       "    <tr>\n",
       "      <th>6</th>\n",
       "      <td>Advanced Database Systems</td>\n",
       "      <td>[Amalgame: A Tool for Creating Interoperating,...</td>\n",
       "    </tr>\n",
       "    <tr>\n",
       "      <th>7</th>\n",
       "      <td>BMC@CAV</td>\n",
       "      <td>[A satisfiability-based approach to abstractio...</td>\n",
       "    </tr>\n",
       "    <tr>\n",
       "      <th>8</th>\n",
       "      <td>Biometrics Technology</td>\n",
       "      <td>[Biometric Template Security based on Watermar...</td>\n",
       "    </tr>\n",
       "    <tr>\n",
       "      <th>9</th>\n",
       "      <td>Bytecode@ETAPS</td>\n",
       "      <td>[Bytecode Rewriting in Tom., Kleene Algebra an...</td>\n",
       "    </tr>\n",
       "  </tbody>\n",
       "</table>\n",
       "</div>"
      ],
      "text/plain": [
       "                  conference  \\\n",
       "0                        ADG   \n",
       "1                    AISTATS   \n",
       "2                ANT/MobiWIS   \n",
       "3                     APC 25   \n",
       "4                ARSPA@IJCAR   \n",
       "5                      AVoCS   \n",
       "6  Advanced Database Systems   \n",
       "7                    BMC@CAV   \n",
       "8      Biometrics Technology   \n",
       "9             Bytecode@ETAPS   \n",
       "\n",
       "                                          most_cited  \n",
       "0  [Maximizing the Sum of the Distances between F...  \n",
       "1  [Markov Topic Models., Noise-contrastive estim...  \n",
       "2  [Distributed Usage Control., Multi-hop Interfe...  \n",
       "3  [On Combining Probability and Nondeterminism.,...  \n",
       "4                                         [Preface.]  \n",
       "5             [Isabelle Theories for Machine Words.]  \n",
       "6  [Amalgame: A Tool for Creating Interoperating,...  \n",
       "7  [A satisfiability-based approach to abstractio...  \n",
       "8  [Biometric Template Security based on Watermar...  \n",
       "9  [Bytecode Rewriting in Tom., Kleene Algebra an...  "
      ]
     },
     "execution_count": 35,
     "metadata": {},
     "output_type": "execute_result"
    }
   ],
   "source": [
    "df.head(10)"
   ]
  },
  {
   "cell_type": "markdown",
   "metadata": {},
   "source": [
    "## Community"
   ]
  },
  {
   "cell_type": "code",
   "execution_count": 24,
   "metadata": {},
   "outputs": [],
   "source": [
    "community_query = \"\"\"\n",
    "match (c:Conference)-[:HOLDS]->(ce:ConferenceEdition)<-[:PUBLISHED_IN]-(p:Paper)<-[:AUTHOR_OF]-(r:Researcher)\n",
    "with c, r, count(distinct ce) as no_editions\n",
    "where no_editions >= 4\n",
    "with c, collect(r.name) as community\n",
    "return c.conference_name, community, size(community) as community_size\n",
    "\"\"\""
   ]
  },
  {
   "cell_type": "code",
   "execution_count": 25,
   "metadata": {},
   "outputs": [],
   "source": [
    "cursor = run_query(community_query)\n",
    "df = cursor.to_data_frame()"
   ]
  },
  {
   "cell_type": "code",
   "execution_count": 26,
   "metadata": {},
   "outputs": [
    {
     "data": {
      "text/html": [
       "<div>\n",
       "<style scoped>\n",
       "    .dataframe tbody tr th:only-of-type {\n",
       "        vertical-align: middle;\n",
       "    }\n",
       "\n",
       "    .dataframe tbody tr th {\n",
       "        vertical-align: top;\n",
       "    }\n",
       "\n",
       "    .dataframe thead th {\n",
       "        text-align: right;\n",
       "    }\n",
       "</style>\n",
       "<table border=\"1\" class=\"dataframe\">\n",
       "  <thead>\n",
       "    <tr style=\"text-align: right;\">\n",
       "      <th></th>\n",
       "      <th>c.conference_name</th>\n",
       "      <th>community</th>\n",
       "      <th>community_size</th>\n",
       "    </tr>\n",
       "  </thead>\n",
       "  <tbody>\n",
       "    <tr>\n",
       "      <th>0</th>\n",
       "      <td>AISTATS</td>\n",
       "      <td>[Bert Huang, Zoubin Ghahramani, Jennifer G. Dy...</td>\n",
       "      <td>25</td>\n",
       "    </tr>\n",
       "    <tr>\n",
       "      <th>1</th>\n",
       "      <td>MFPS</td>\n",
       "      <td>[Sam Staton, Alexandra Silva 0001, Bart Jacobs...</td>\n",
       "      <td>29</td>\n",
       "    </tr>\n",
       "    <tr>\n",
       "      <th>2</th>\n",
       "      <td>COCV@ETAPS</td>\n",
       "      <td>[Wolf Zimmermann, Jens Knoop, Sabine Glesner, ...</td>\n",
       "      <td>4</td>\n",
       "    </tr>\n",
       "    <tr>\n",
       "      <th>3</th>\n",
       "      <td>LSFA</td>\n",
       "      <td>[Alejandro Díaz-Caro, Carlos Olarte, Marcelo F...</td>\n",
       "      <td>13</td>\n",
       "    </tr>\n",
       "    <tr>\n",
       "      <th>4</th>\n",
       "      <td>EXPRESS</td>\n",
       "      <td>[Uwe Nestmann, Anna Ingólfsdóttir, Luca Aceto,...</td>\n",
       "      <td>9</td>\n",
       "    </tr>\n",
       "    <tr>\n",
       "      <th>5</th>\n",
       "      <td>FESCA@ETAPS</td>\n",
       "      <td>[Ralf H. Reussner, Iman Poernomo]</td>\n",
       "      <td>2</td>\n",
       "    </tr>\n",
       "    <tr>\n",
       "      <th>6</th>\n",
       "      <td>CMCS</td>\n",
       "      <td>[Jirí Adámek, Bart Jacobs 0001, Alexander Kurz...</td>\n",
       "      <td>23</td>\n",
       "    </tr>\n",
       "    <tr>\n",
       "      <th>7</th>\n",
       "      <td>WRLA</td>\n",
       "      <td>[Manuel Clavel, José Meseguer, Carolyn L. Talc...</td>\n",
       "      <td>16</td>\n",
       "    </tr>\n",
       "    <tr>\n",
       "      <th>8</th>\n",
       "      <td>PASM</td>\n",
       "      <td>[Nigel Thomas, William J. Knottenbelt, Marco G...</td>\n",
       "      <td>3</td>\n",
       "    </tr>\n",
       "    <tr>\n",
       "      <th>9</th>\n",
       "      <td>LDTA@ETAPS</td>\n",
       "      <td>[Mark van den Brand, Görel Hedin, Jurgen J. Vi...</td>\n",
       "      <td>3</td>\n",
       "    </tr>\n",
       "  </tbody>\n",
       "</table>\n",
       "</div>"
      ],
      "text/plain": [
       "  c.conference_name                                          community  \\\n",
       "0           AISTATS  [Bert Huang, Zoubin Ghahramani, Jennifer G. Dy...   \n",
       "1              MFPS  [Sam Staton, Alexandra Silva 0001, Bart Jacobs...   \n",
       "2        COCV@ETAPS  [Wolf Zimmermann, Jens Knoop, Sabine Glesner, ...   \n",
       "3              LSFA  [Alejandro Díaz-Caro, Carlos Olarte, Marcelo F...   \n",
       "4           EXPRESS  [Uwe Nestmann, Anna Ingólfsdóttir, Luca Aceto,...   \n",
       "5       FESCA@ETAPS                  [Ralf H. Reussner, Iman Poernomo]   \n",
       "6              CMCS  [Jirí Adámek, Bart Jacobs 0001, Alexander Kurz...   \n",
       "7              WRLA  [Manuel Clavel, José Meseguer, Carolyn L. Talc...   \n",
       "8              PASM  [Nigel Thomas, William J. Knottenbelt, Marco G...   \n",
       "9        LDTA@ETAPS  [Mark van den Brand, Görel Hedin, Jurgen J. Vi...   \n",
       "\n",
       "   community_size  \n",
       "0              25  \n",
       "1              29  \n",
       "2               4  \n",
       "3              13  \n",
       "4               9  \n",
       "5               2  \n",
       "6              23  \n",
       "7              16  \n",
       "8               3  \n",
       "9               3  "
      ]
     },
     "execution_count": 26,
     "metadata": {},
     "output_type": "execute_result"
    }
   ],
   "source": [
    "df.head(10)"
   ]
  },
  {
   "attachments": {},
   "cell_type": "markdown",
   "metadata": {},
   "source": [
    "## Impact Factor"
   ]
  },
  {
   "cell_type": "code",
   "execution_count": 40,
   "metadata": {},
   "outputs": [],
   "source": [
    "impact_factor = \"\"\"\n",
    "//Impact factor (citations(year x) of papers published in last two year)/(publications in last two years)\n",
    "\n",
    "Match (:Paper)-[jc:JOURNAL_CITATION]->(journal:Journal)\n",
    "where jc.year_cited = <YEAR> AND (jc.publication_year_cited_paper=<YEAR-2> Or jc.publication_year_cited_paper=<YEAR-1>)\n",
    "with journal, count(jc) as no_citations\n",
    "\n",
    "match (:Paper)<-[jp:JOURNAL_PUBLICATION]-(journal)\n",
    "where jp.year = <YEAR-2> or jp.year = <YEAR-1>\n",
    "\n",
    "with journal, no_citations, count(jp) as no_publications\n",
    "return journal.journal_name, no_citations, no_publications, (tofloat(no_citations) / no_publications) as impact_factor\n",
    "order by impact_factor desc\n",
    "\n",
    "\"\"\""
   ]
  },
  {
   "cell_type": "code",
   "execution_count": 41,
   "metadata": {},
   "outputs": [],
   "source": [
    "def get_impact_factor(year:int):\n",
    "    q = impact_factor.replace(\"<YEAR>\", str(year)).replace(\"<YEAR-1>\", str(year-1)).replace(\"<YEAR-2>\", str(year-2))\n",
    "\n",
    "    print(run_query(q))"
   ]
  },
  {
   "cell_type": "code",
   "execution_count": 44,
   "metadata": {},
   "outputs": [
    {
     "name": "stdout",
     "output_type": "stream",
     "text": [
      " journal.journal_name         | no_citations | no_publications |      impact_factor \n",
      "------------------------------|--------------|-----------------|--------------------\n",
      " IEEE Trans. Hum. Mach. Syst. |          985 |             145 |  6.793103448275862 \n",
      " Comput. Chem. Eng.           |          429 |             472 | 0.9088983050847458 \n",
      "\n"
     ]
    }
   ],
   "source": [
    "get_impact_factor(2016)"
   ]
  },
  {
   "cell_type": "markdown",
   "metadata": {},
   "source": [
    "## H-index"
   ]
  },
  {
   "cell_type": "code",
   "execution_count": 46,
   "metadata": {},
   "outputs": [],
   "source": [
    "h_index = \"\"\"\n",
    "Match (a:Researcher)-[ao:AUTHOR_OF]->(paper:Paper)\n",
    "optional match (paper)<-[ci:CITES]-(citing_paper:Paper)\n",
    "\n",
    "With  a, paper, count(citing_paper) as no_cit\n",
    "With a, collect([a,paper,no_cit]) as papers\n",
    "\n",
    "unwind range(0, size(papers)-1) as ind\n",
    "\n",
    "//where no_cit > no_pub\n",
    "\n",
    "with a, papers[ind][0] as auth, papers[ind][1] as pap,ind,papers[ind][2] as no_cit, case papers[ind][2] >= ind +1 when true then 1 else 0 end as in_count\n",
    "//where  no_cit >= ind +1\n",
    "//return a.name, pap.title, ind + 1 , no_cit, in_count\n",
    "order by ind desc, no_cit\n",
    "return a.name, sum( in_count) as h_index\n",
    "order by h_index desc\n",
    "\n",
    "\"\"\""
   ]
  },
  {
   "cell_type": "code",
   "execution_count": 47,
   "metadata": {},
   "outputs": [],
   "source": [
    "cursor = run_query(h_index)\n",
    "df = cursor.to_data_frame()"
   ]
  },
  {
   "cell_type": "code",
   "execution_count": 49,
   "metadata": {},
   "outputs": [
    {
     "data": {
      "text/html": [
       "<div>\n",
       "<style scoped>\n",
       "    .dataframe tbody tr th:only-of-type {\n",
       "        vertical-align: middle;\n",
       "    }\n",
       "\n",
       "    .dataframe tbody tr th {\n",
       "        vertical-align: top;\n",
       "    }\n",
       "\n",
       "    .dataframe thead th {\n",
       "        text-align: right;\n",
       "    }\n",
       "</style>\n",
       "<table border=\"1\" class=\"dataframe\">\n",
       "  <thead>\n",
       "    <tr style=\"text-align: right;\">\n",
       "      <th></th>\n",
       "      <th>a.name</th>\n",
       "      <th>h_index</th>\n",
       "    </tr>\n",
       "  </thead>\n",
       "  <tbody>\n",
       "    <tr>\n",
       "      <th>0</th>\n",
       "      <td>Andrew B. Whinston</td>\n",
       "      <td>8</td>\n",
       "    </tr>\n",
       "    <tr>\n",
       "      <th>1</th>\n",
       "      <td>Clyde W. Holsapple</td>\n",
       "      <td>5</td>\n",
       "    </tr>\n",
       "    <tr>\n",
       "      <th>2</th>\n",
       "      <td>Jay F. Nunamaker Jr.</td>\n",
       "      <td>3</td>\n",
       "    </tr>\n",
       "    <tr>\n",
       "      <th>3</th>\n",
       "      <td>Pierre-Etienne Moreau</td>\n",
       "      <td>3</td>\n",
       "    </tr>\n",
       "    <tr>\n",
       "      <th>4</th>\n",
       "      <td>Ronald M. Lee</td>\n",
       "      <td>3</td>\n",
       "    </tr>\n",
       "    <tr>\n",
       "      <th>5</th>\n",
       "      <td>Peter Wegner</td>\n",
       "      <td>3</td>\n",
       "    </tr>\n",
       "    <tr>\n",
       "      <th>6</th>\n",
       "      <td>Patrick Lincoln</td>\n",
       "      <td>3</td>\n",
       "    </tr>\n",
       "    <tr>\n",
       "      <th>7</th>\n",
       "      <td>Dennis G. Kafura</td>\n",
       "      <td>3</td>\n",
       "    </tr>\n",
       "    <tr>\n",
       "      <th>8</th>\n",
       "      <td>Peter de Jong</td>\n",
       "      <td>3</td>\n",
       "    </tr>\n",
       "    <tr>\n",
       "      <th>9</th>\n",
       "      <td>Bruce Anderson</td>\n",
       "      <td>2</td>\n",
       "    </tr>\n",
       "  </tbody>\n",
       "</table>\n",
       "</div>"
      ],
      "text/plain": [
       "                  a.name  h_index\n",
       "0     Andrew B. Whinston        8\n",
       "1     Clyde W. Holsapple        5\n",
       "2   Jay F. Nunamaker Jr.        3\n",
       "3  Pierre-Etienne Moreau        3\n",
       "4          Ronald M. Lee        3\n",
       "5           Peter Wegner        3\n",
       "6        Patrick Lincoln        3\n",
       "7       Dennis G. Kafura        3\n",
       "8          Peter de Jong        3\n",
       "9         Bruce Anderson        2"
      ]
     },
     "execution_count": 49,
     "metadata": {},
     "output_type": "execute_result"
    }
   ],
   "source": [
    "df.head(10)"
   ]
  },
  {
   "cell_type": "code",
   "execution_count": null,
   "metadata": {},
   "outputs": [],
   "source": []
  }
 ],
 "metadata": {
  "kernelspec": {
   "display_name": "venv",
   "language": "python",
   "name": "python3"
  },
  "language_info": {
   "codemirror_mode": {
    "name": "ipython",
    "version": 3
   },
   "file_extension": ".py",
   "mimetype": "text/x-python",
   "name": "python",
   "nbconvert_exporter": "python",
   "pygments_lexer": "ipython3",
   "version": "3.9.7"
  },
  "orig_nbformat": 4
 },
 "nbformat": 4,
 "nbformat_minor": 2
}
