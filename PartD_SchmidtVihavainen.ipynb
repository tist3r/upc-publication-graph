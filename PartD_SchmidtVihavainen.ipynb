{
 "cells": [
  {
   "attachments": {},
   "cell_type": "markdown",
   "metadata": {},
   "source": [
    "# Part D"
   ]
  },
  {
   "cell_type": "markdown",
   "metadata": {},
   "source": [
    "## Setup"
   ]
  },
  {
   "cell_type": "code",
   "execution_count": 1,
   "metadata": {},
   "outputs": [],
   "source": [
    "from py2neo import Graph, ClientError"
   ]
  },
  {
   "cell_type": "code",
   "execution_count": 2,
   "metadata": {},
   "outputs": [],
   "source": [
    "#set connection variables\n",
    "PORT = \"7687\" #database running on this port for bolt connections\n",
    "USER = \"neo4j\" #standard user\n",
    "PASSWORD = \"publication-graph\" #db password"
   ]
  },
  {
   "cell_type": "code",
   "execution_count": 3,
   "metadata": {},
   "outputs": [
    {
     "name": "stdout",
     "output_type": "stream",
     "text": [
      "SUCCESS: Connected to the Neo4j Database.\n"
     ]
    }
   ],
   "source": [
    "#connect to database\n",
    "try:\n",
    "    graph = Graph('bolt://localhost:'+PORT, auth=(USER, PASSWORD))\n",
    "    print('SUCCESS: Connected to the Neo4j Database.')\n",
    "except Exception as e:\n",
    "    print('ERROR: Could not connect to the Neo4j Database. See console for details.')\n",
    "    raise SystemExit(e)"
   ]
  },
  {
   "cell_type": "code",
   "execution_count": 4,
   "metadata": {},
   "outputs": [],
   "source": [
    "# query helper function\n",
    "def run_query(query:str):\n",
    "    try:\n",
    "        return graph.run(query)\n",
    "    except ClientError as e:\n",
    "        print(e.message)"
   ]
  },
  {
   "attachments": {},
   "cell_type": "markdown",
   "metadata": {},
   "source": [
    "## 1. Page Rank"
   ]
  },
  {
   "cell_type": "code",
   "execution_count": 5,
   "metadata": {},
   "outputs": [],
   "source": [
    "# graph projection\n",
    "projection_page_rank = \"\"\"\n",
    "CALL gds.graph.project(\n",
    "  'paper-rank',\n",
    "  'Paper',\n",
    "  'CITES'\n",
    ")\"\"\""
   ]
  },
  {
   "cell_type": "code",
   "execution_count": 6,
   "metadata": {},
   "outputs": [
    {
     "data": {
      "text/html": [
       "<table><tr><th>nodeProjection</th><th>relationshipProjection</th><th>graphName</th><th>nodeCount</th><th>relationshipCount</th><th>projectMillis</th></tr><tr><td style=\"text-align:left\">{Paper: {label: &#039;Paper&#039;, properties: {}}}</td><td style=\"text-align:left\">{CITES: {orientation: &#039;NATURAL&#039;, indexInverse: false, aggregation: &#039;DEFAULT&#039;, type: &#039;CITES&#039;, properties: {}}}</td><td style=\"text-align:left\">paper-rank</td><td style=\"text-align:right\">27621</td><td style=\"text-align:right\">269541</td><td style=\"text-align:right\">4197</td></tr></table>"
      ],
      "text/plain": [
       " nodeProjection                            | relationshipProjection                                                                                        | graphName  | nodeCount | relationshipCount | projectMillis \n",
       "-------------------------------------------|---------------------------------------------------------------------------------------------------------------|------------|-----------|-------------------|---------------\n",
       " {Paper: {label: 'Paper', properties: {}}} | {CITES: {orientation: 'NATURAL', indexInverse: false, aggregation: 'DEFAULT', type: 'CITES', properties: {}}} | paper-rank |     27621 |            269541 |          4197 "
      ]
     },
     "execution_count": 6,
     "metadata": {},
     "output_type": "execute_result"
    }
   ],
   "source": [
    "run_query(projection_page_rank)"
   ]
  },
  {
   "cell_type": "code",
   "execution_count": 7,
   "metadata": {},
   "outputs": [],
   "source": [
    "#page rank computation, parameters: 25 Iterations, dampening factor - 0.85 (standard value)"
   ]
  },
  {
   "cell_type": "code",
   "execution_count": 8,
   "metadata": {},
   "outputs": [],
   "source": [
    "page_rank_stream = \"\"\"\n",
    "CALL gds.pageRank.stream('paper-rank')\n",
    "YIELD nodeId, score\n",
    "RETURN gds.util.asNode(nodeId).title AS title, score\n",
    "ORDER BY score DESC, title ASC\n",
    "\"\"\""
   ]
  },
  {
   "cell_type": "code",
   "execution_count": 9,
   "metadata": {},
   "outputs": [],
   "source": [
    "cursor = run_query(page_rank_stream)\n",
    "df = cursor.to_data_frame()"
   ]
  },
  {
   "cell_type": "code",
   "execution_count": 10,
   "metadata": {},
   "outputs": [
    {
     "data": {
      "text/html": [
       "<div>\n",
       "<style scoped>\n",
       "    .dataframe tbody tr th:only-of-type {\n",
       "        vertical-align: middle;\n",
       "    }\n",
       "\n",
       "    .dataframe tbody tr th {\n",
       "        vertical-align: top;\n",
       "    }\n",
       "\n",
       "    .dataframe thead th {\n",
       "        text-align: right;\n",
       "    }\n",
       "</style>\n",
       "<table border=\"1\" class=\"dataframe\">\n",
       "  <thead>\n",
       "    <tr style=\"text-align: right;\">\n",
       "      <th></th>\n",
       "      <th>title</th>\n",
       "      <th>score</th>\n",
       "    </tr>\n",
       "  </thead>\n",
       "  <tbody>\n",
       "    <tr>\n",
       "      <th>0</th>\n",
       "      <td>Handling shared resources in a temporal data b...</td>\n",
       "      <td>135.675282</td>\n",
       "    </tr>\n",
       "    <tr>\n",
       "      <th>1</th>\n",
       "      <td>Can entity-based information systems live with...</td>\n",
       "      <td>128.706558</td>\n",
       "    </tr>\n",
       "    <tr>\n",
       "      <th>2</th>\n",
       "      <td>An environment for development of decision sup...</td>\n",
       "      <td>127.707872</td>\n",
       "    </tr>\n",
       "    <tr>\n",
       "      <th>3</th>\n",
       "      <td>Classification as a paradigm for computing (ab...</td>\n",
       "      <td>112.368444</td>\n",
       "    </tr>\n",
       "    <tr>\n",
       "      <th>4</th>\n",
       "      <td>A reduced dimension branch-and-bound algorithm...</td>\n",
       "      <td>101.967724</td>\n",
       "    </tr>\n",
       "    <tr>\n",
       "      <th>5</th>\n",
       "      <td>An inclusive and extensible architecture for e...</td>\n",
       "      <td>101.967724</td>\n",
       "    </tr>\n",
       "    <tr>\n",
       "      <th>6</th>\n",
       "      <td>Seven Challenges.</td>\n",
       "      <td>101.967724</td>\n",
       "    </tr>\n",
       "    <tr>\n",
       "      <th>7</th>\n",
       "      <td>The Expressive Power of Urgent, Lazy and Busy-...</td>\n",
       "      <td>101.967724</td>\n",
       "    </tr>\n",
       "    <tr>\n",
       "      <th>8</th>\n",
       "      <td>Top-secret Multi-Agent Systems.</td>\n",
       "      <td>101.967724</td>\n",
       "    </tr>\n",
       "    <tr>\n",
       "      <th>9</th>\n",
       "      <td>Information structuring and its implementation...</td>\n",
       "      <td>97.527169</td>\n",
       "    </tr>\n",
       "  </tbody>\n",
       "</table>\n",
       "</div>"
      ],
      "text/plain": [
       "                                               title       score\n",
       "0  Handling shared resources in a temporal data b...  135.675282\n",
       "1  Can entity-based information systems live with...  128.706558\n",
       "2  An environment for development of decision sup...  127.707872\n",
       "3  Classification as a paradigm for computing (ab...  112.368444\n",
       "4  A reduced dimension branch-and-bound algorithm...  101.967724\n",
       "5  An inclusive and extensible architecture for e...  101.967724\n",
       "6                                  Seven Challenges.  101.967724\n",
       "7  The Expressive Power of Urgent, Lazy and Busy-...  101.967724\n",
       "8                    Top-secret Multi-Agent Systems.  101.967724\n",
       "9  Information structuring and its implementation...   97.527169"
      ]
     },
     "execution_count": 10,
     "metadata": {},
     "output_type": "execute_result"
    }
   ],
   "source": [
    "df.head(10)"
   ]
  },
  {
   "cell_type": "markdown",
   "metadata": {},
   "source": [
    "## 2. Node similarity (Jaccard similarity)"
   ]
  },
  {
   "cell_type": "code",
   "execution_count": 19,
   "metadata": {},
   "outputs": [],
   "source": [
    "projection_jaccard = \"\"\"\n",
    "CALL gds.graph.project(\n",
    "    \"similarity_of_papers2\",\n",
    "    [\"Paper\", \"Keyword\"],\n",
    "    \"MAIN_TOPIC\")\n",
    "YIELD\n",
    "    graphName as graph\n",
    "\"\"\"\n",
    "\n",
    "jaccard_stream = \"\"\"\n",
    "CALL gds.nodeSimilarity.stream(\"similarity_of_papers2\")\n",
    "YIELD node1, node2, similarity\n",
    "WITH gds.util.asNode(node1) AS paper1, gds.util.asNode(node2) AS paper2, similarity\n",
    "WHERE paper1 <> paper2\n",
    "RETURN paper1.title as paper1, paper2.title AS paper2, id(paper1), id(paper2), similarity\n",
    "ORDER BY similarity DESC, paper1, paper2\n",
    "\"\"\""
   ]
  },
  {
   "cell_type": "code",
   "execution_count": 20,
   "metadata": {},
   "outputs": [
    {
     "name": "stdout",
     "output_type": "stream",
     "text": [
      "Failed to invoke procedure `gds.graph.project`: Caused by: java.lang.IllegalArgumentException: A graph with name 'similarity_of_papers2' already exists.\n"
     ]
    }
   ],
   "source": [
    "run_query(projection_jaccard)"
   ]
  },
  {
   "cell_type": "markdown",
   "metadata": {},
   "source": [
    "---"
   ]
  },
  {
   "cell_type": "code",
   "execution_count": 21,
   "metadata": {},
   "outputs": [],
   "source": [
    "cursor_jaccard = run_query(jaccard_stream)\n",
    "df_jaccard = cursor_jaccard.to_data_frame()"
   ]
  },
  {
   "cell_type": "code",
   "execution_count": 22,
   "metadata": {},
   "outputs": [
    {
     "data": {
      "text/html": [
       "<div>\n",
       "<style scoped>\n",
       "    .dataframe tbody tr th:only-of-type {\n",
       "        vertical-align: middle;\n",
       "    }\n",
       "\n",
       "    .dataframe tbody tr th {\n",
       "        vertical-align: top;\n",
       "    }\n",
       "\n",
       "    .dataframe thead th {\n",
       "        text-align: right;\n",
       "    }\n",
       "</style>\n",
       "<table border=\"1\" class=\"dataframe\">\n",
       "  <thead>\n",
       "    <tr style=\"text-align: right;\">\n",
       "      <th></th>\n",
       "      <th>paper1</th>\n",
       "      <th>paper2</th>\n",
       "      <th>id(paper1)</th>\n",
       "      <th>id(paper2)</th>\n",
       "      <th>similarity</th>\n",
       "    </tr>\n",
       "  </thead>\n",
       "  <tbody>\n",
       "    <tr>\n",
       "      <th>0</th>\n",
       "      <td>Abstract Interpretation Based Verification of ...</td>\n",
       "      <td>Abstract Interpretation based Verification of ...</td>\n",
       "      <td>247621</td>\n",
       "      <td>264772</td>\n",
       "      <td>1.0</td>\n",
       "    </tr>\n",
       "    <tr>\n",
       "      <th>1</th>\n",
       "      <td>Abstract Interpretation based Verification of ...</td>\n",
       "      <td>Abstract Interpretation Based Verification of ...</td>\n",
       "      <td>264772</td>\n",
       "      <td>247621</td>\n",
       "      <td>1.0</td>\n",
       "    </tr>\n",
       "    <tr>\n",
       "      <th>2</th>\n",
       "      <td>Advances in Information Science.</td>\n",
       "      <td>Advances in Information Science.</td>\n",
       "      <td>228641</td>\n",
       "      <td>233835</td>\n",
       "      <td>1.0</td>\n",
       "    </tr>\n",
       "    <tr>\n",
       "      <th>3</th>\n",
       "      <td>Advances in Information Science.</td>\n",
       "      <td>Advances in Information Science.</td>\n",
       "      <td>233835</td>\n",
       "      <td>228641</td>\n",
       "      <td>1.0</td>\n",
       "    </tr>\n",
       "    <tr>\n",
       "      <th>4</th>\n",
       "      <td>An Overview of C</td>\n",
       "      <td>An overview of C++.</td>\n",
       "      <td>250404</td>\n",
       "      <td>240450</td>\n",
       "      <td>1.0</td>\n",
       "    </tr>\n",
       "    <tr>\n",
       "      <th>5</th>\n",
       "      <td>An overview of C++.</td>\n",
       "      <td>An Overview of C</td>\n",
       "      <td>240450</td>\n",
       "      <td>250404</td>\n",
       "      <td>1.0</td>\n",
       "    </tr>\n",
       "    <tr>\n",
       "      <th>6</th>\n",
       "      <td>Applying Active Methodologies for Teaching Sof...</td>\n",
       "      <td>Applying Active Methodologies for Teaching Sof...</td>\n",
       "      <td>206404</td>\n",
       "      <td>207652</td>\n",
       "      <td>1.0</td>\n",
       "    </tr>\n",
       "    <tr>\n",
       "      <th>7</th>\n",
       "      <td>Applying Active Methodologies for Teaching Sof...</td>\n",
       "      <td>Applying Active Methodologies for Teaching Sof...</td>\n",
       "      <td>207652</td>\n",
       "      <td>206404</td>\n",
       "      <td>1.0</td>\n",
       "    </tr>\n",
       "    <tr>\n",
       "      <th>8</th>\n",
       "      <td>Book Review.</td>\n",
       "      <td>Book review.</td>\n",
       "      <td>230606</td>\n",
       "      <td>230530</td>\n",
       "      <td>1.0</td>\n",
       "    </tr>\n",
       "    <tr>\n",
       "      <th>9</th>\n",
       "      <td>Book Review.</td>\n",
       "      <td>Book review.</td>\n",
       "      <td>230606</td>\n",
       "      <td>233721</td>\n",
       "      <td>1.0</td>\n",
       "    </tr>\n",
       "  </tbody>\n",
       "</table>\n",
       "</div>"
      ],
      "text/plain": [
       "                                              paper1  \\\n",
       "0  Abstract Interpretation Based Verification of ...   \n",
       "1  Abstract Interpretation based Verification of ...   \n",
       "2                   Advances in Information Science.   \n",
       "3                   Advances in Information Science.   \n",
       "4                                   An Overview of C   \n",
       "5                                An overview of C++.   \n",
       "6  Applying Active Methodologies for Teaching Sof...   \n",
       "7  Applying Active Methodologies for Teaching Sof...   \n",
       "8                                       Book Review.   \n",
       "9                                       Book Review.   \n",
       "\n",
       "                                              paper2  id(paper1)  id(paper2)  \\\n",
       "0  Abstract Interpretation based Verification of ...      247621      264772   \n",
       "1  Abstract Interpretation Based Verification of ...      264772      247621   \n",
       "2                   Advances in Information Science.      228641      233835   \n",
       "3                   Advances in Information Science.      233835      228641   \n",
       "4                                An overview of C++.      250404      240450   \n",
       "5                                   An Overview of C      240450      250404   \n",
       "6  Applying Active Methodologies for Teaching Sof...      206404      207652   \n",
       "7  Applying Active Methodologies for Teaching Sof...      207652      206404   \n",
       "8                                       Book review.      230606      230530   \n",
       "9                                       Book review.      230606      233721   \n",
       "\n",
       "   similarity  \n",
       "0         1.0  \n",
       "1         1.0  \n",
       "2         1.0  \n",
       "3         1.0  \n",
       "4         1.0  \n",
       "5         1.0  \n",
       "6         1.0  \n",
       "7         1.0  \n",
       "8         1.0  \n",
       "9         1.0  "
      ]
     },
     "execution_count": 22,
     "metadata": {},
     "output_type": "execute_result"
    }
   ],
   "source": [
    "df_jaccard.head(10)"
   ]
  },
  {
   "cell_type": "code",
   "execution_count": null,
   "metadata": {},
   "outputs": [],
   "source": []
  }
 ],
 "metadata": {
  "kernelspec": {
   "display_name": "Python 3.10.8 64-bit",
   "language": "python",
   "name": "python3"
  },
  "language_info": {
   "codemirror_mode": {
    "name": "ipython",
    "version": 3
   },
   "file_extension": ".py",
   "mimetype": "text/x-python",
   "name": "python",
   "nbconvert_exporter": "python",
   "pygments_lexer": "ipython3",
   "version": "3.9.7"
  },
  "orig_nbformat": 4,
  "vscode": {
   "interpreter": {
    "hash": "c32a250d4233bc58f88e33f025e78c2e98827beee6132a9f9bc82ae556f1398b"
   }
  }
 },
 "nbformat": 4,
 "nbformat_minor": 2
}
