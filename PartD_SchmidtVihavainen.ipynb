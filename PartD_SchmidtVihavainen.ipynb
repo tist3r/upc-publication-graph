{
 "cells": [
  {
   "attachments": {},
   "cell_type": "markdown",
   "metadata": {},
   "source": [
    "# Part D"
   ]
  },
  {
   "cell_type": "markdown",
   "metadata": {},
   "source": [
    "## Setup"
   ]
  },
  {
   "cell_type": "code",
   "execution_count": 1,
   "metadata": {},
   "outputs": [],
   "source": [
    "from py2neo import Graph, ClientError"
   ]
  },
  {
   "cell_type": "code",
   "execution_count": 2,
   "metadata": {},
   "outputs": [],
   "source": [
    "#set connection variables\n",
    "PORT = \"7687\" #database running on this port for bolt connections\n",
    "USER = \"neo4j\" #standard user\n",
    "PASSWORD = \"publication-graph\" #db password"
   ]
  },
  {
   "cell_type": "code",
   "execution_count": 3,
   "metadata": {},
   "outputs": [
    {
     "name": "stdout",
     "output_type": "stream",
     "text": [
      "SUCCESS: Connected to the Neo4j Database.\n"
     ]
    }
   ],
   "source": [
    "#connect to database\n",
    "try:\n",
    "    graph = Graph('bolt://localhost:'+PORT, auth=(USER, PASSWORD))\n",
    "    print('SUCCESS: Connected to the Neo4j Database.')\n",
    "except Exception as e:\n",
    "    print('ERROR: Could not connect to the Neo4j Database. See console for details.')\n",
    "    raise SystemExit(e)"
   ]
  },
  {
   "cell_type": "code",
   "execution_count": 4,
   "metadata": {},
   "outputs": [],
   "source": [
    "# query helper function\n",
    "def run_query(query:str):\n",
    "    try:\n",
    "        return graph.run(query)\n",
    "    except ClientError as e:\n",
    "        print(e.message)"
   ]
  },
  {
   "attachments": {},
   "cell_type": "markdown",
   "metadata": {},
   "source": [
    "## 1. Page Rank"
   ]
  },
  {
   "cell_type": "code",
   "execution_count": 5,
   "metadata": {},
   "outputs": [],
   "source": [
    "# graph projection\n",
    "projection_page_rank = \"\"\"\n",
    "CALL gds.graph.project(\n",
    "  'paper-rank',\n",
    "  'Paper',\n",
    "  'CITES'\n",
    ")\"\"\""
   ]
  },
  {
   "cell_type": "code",
   "execution_count": 6,
   "metadata": {},
   "outputs": [
    {
     "name": "stdout",
     "output_type": "stream",
     "text": [
      "Failed to invoke procedure `gds.graph.project`: Caused by: java.lang.IllegalArgumentException: A graph with name 'paper-rank' already exists.\n"
     ]
    }
   ],
   "source": [
    "run_query(projection_page_rank)"
   ]
  },
  {
   "cell_type": "code",
   "execution_count": 7,
   "metadata": {},
   "outputs": [],
   "source": [
    "#page rank computation, parameters: 25 Iterations, dampening factor - 0.85 (standard value)"
   ]
  },
  {
   "cell_type": "code",
   "execution_count": 13,
   "metadata": {},
   "outputs": [],
   "source": [
    "page_rank_stream = \"\"\"\n",
    "CALL gds.pageRank.stream('paper-rank')\n",
    "YIELD nodeId, score\n",
    "RETURN gds.util.asNode(nodeId).title AS title, score\n",
    "ORDER BY score DESC, title ASC\n",
    "\"\"\""
   ]
  },
  {
   "cell_type": "code",
   "execution_count": 14,
   "metadata": {},
   "outputs": [],
   "source": [
    "cursor = run_query(page_rank_stream)\n",
    "df = cursor.to_data_frame()"
   ]
  },
  {
   "cell_type": "code",
   "execution_count": 16,
   "metadata": {},
   "outputs": [
    {
     "data": {
      "text/html": [
       "<div>\n",
       "<style scoped>\n",
       "    .dataframe tbody tr th:only-of-type {\n",
       "        vertical-align: middle;\n",
       "    }\n",
       "\n",
       "    .dataframe tbody tr th {\n",
       "        vertical-align: top;\n",
       "    }\n",
       "\n",
       "    .dataframe thead th {\n",
       "        text-align: right;\n",
       "    }\n",
       "</style>\n",
       "<table border=\"1\" class=\"dataframe\">\n",
       "  <thead>\n",
       "    <tr style=\"text-align: right;\">\n",
       "      <th></th>\n",
       "      <th>title</th>\n",
       "      <th>score</th>\n",
       "    </tr>\n",
       "  </thead>\n",
       "  <tbody>\n",
       "    <tr>\n",
       "      <th>0</th>\n",
       "      <td>Handling shared resources in a temporal data b...</td>\n",
       "      <td>135.675282</td>\n",
       "    </tr>\n",
       "    <tr>\n",
       "      <th>1</th>\n",
       "      <td>Can entity-based information systems live with...</td>\n",
       "      <td>128.706558</td>\n",
       "    </tr>\n",
       "    <tr>\n",
       "      <th>2</th>\n",
       "      <td>An environment for development of decision sup...</td>\n",
       "      <td>127.707872</td>\n",
       "    </tr>\n",
       "    <tr>\n",
       "      <th>3</th>\n",
       "      <td>Classification as a paradigm for computing (ab...</td>\n",
       "      <td>112.368444</td>\n",
       "    </tr>\n",
       "    <tr>\n",
       "      <th>4</th>\n",
       "      <td>A reduced dimension branch-and-bound algorithm...</td>\n",
       "      <td>101.967724</td>\n",
       "    </tr>\n",
       "    <tr>\n",
       "      <th>5</th>\n",
       "      <td>An inclusive and extensible architecture for e...</td>\n",
       "      <td>101.967724</td>\n",
       "    </tr>\n",
       "    <tr>\n",
       "      <th>6</th>\n",
       "      <td>Seven Challenges.</td>\n",
       "      <td>101.967724</td>\n",
       "    </tr>\n",
       "    <tr>\n",
       "      <th>7</th>\n",
       "      <td>The Expressive Power of Urgent, Lazy and Busy-...</td>\n",
       "      <td>101.967724</td>\n",
       "    </tr>\n",
       "    <tr>\n",
       "      <th>8</th>\n",
       "      <td>Top-secret Multi-Agent Systems.</td>\n",
       "      <td>101.967724</td>\n",
       "    </tr>\n",
       "    <tr>\n",
       "      <th>9</th>\n",
       "      <td>Information structuring and its implementation...</td>\n",
       "      <td>97.527169</td>\n",
       "    </tr>\n",
       "  </tbody>\n",
       "</table>\n",
       "</div>"
      ],
      "text/plain": [
       "                                               title       score\n",
       "0  Handling shared resources in a temporal data b...  135.675282\n",
       "1  Can entity-based information systems live with...  128.706558\n",
       "2  An environment for development of decision sup...  127.707872\n",
       "3  Classification as a paradigm for computing (ab...  112.368444\n",
       "4  A reduced dimension branch-and-bound algorithm...  101.967724\n",
       "5  An inclusive and extensible architecture for e...  101.967724\n",
       "6                                  Seven Challenges.  101.967724\n",
       "7  The Expressive Power of Urgent, Lazy and Busy-...  101.967724\n",
       "8                    Top-secret Multi-Agent Systems.  101.967724\n",
       "9  Information structuring and its implementation...   97.527169"
      ]
     },
     "execution_count": 16,
     "metadata": {},
     "output_type": "execute_result"
    }
   ],
   "source": [
    "df.head(10)"
   ]
  },
  {
   "cell_type": "code",
   "execution_count": null,
   "metadata": {},
   "outputs": [],
   "source": []
  }
 ],
 "metadata": {
  "kernelspec": {
   "display_name": "venv",
   "language": "python",
   "name": "python3"
  },
  "language_info": {
   "codemirror_mode": {
    "name": "ipython",
    "version": 3
   },
   "file_extension": ".py",
   "mimetype": "text/x-python",
   "name": "python",
   "nbconvert_exporter": "python",
   "pygments_lexer": "ipython3",
   "version": "3.9.7"
  },
  "orig_nbformat": 4
 },
 "nbformat": 4,
 "nbformat_minor": 2
}
